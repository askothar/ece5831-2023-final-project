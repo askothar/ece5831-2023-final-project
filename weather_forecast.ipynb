{
 "cells": [
  {
   "cell_type": "code",
   "execution_count": 1,
   "metadata": {},
   "outputs": [],
   "source": [
    "import os\n",
    "import h5py\n",
    "import glob\n",
    "import torch.utils.data as data\n",
    "import torch.optim as optim\n",
    "import torch.nn.init as init\n",
    "import torch\n",
    "import torch.nn as nn\n",
    "import torch.nn.functional as F\n",
    "from torch.autograd import Variable\n",
    "import matplotlib.pyplot as plt"
   ]
  },
  {
   "cell_type": "code",
   "execution_count": null,
   "metadata": {},
   "outputs": [],
   "source": [
    "with h5py.File('data/processed/nowcast_training_000.h5','r') as hf:\n",
    "    print(\"Keys: %s\" % hf.keys())\n",
    "    print(len(hf['IN_vil']))"
   ]
  },
  {
   "cell_type": "code",
   "execution_count": 2,
   "metadata": {},
   "outputs": [],
   "source": [
    "class SevirDataset(data.Dataset):\n",
    "\n",
    "    def __init__(self, root = '..', type = 'train'):\n",
    "        \n",
    "        DEST_TRAIN_FILE= os.path.join(root,'data/processed/nowcast_training_000.h5')\n",
    "        DEST_TRAIN_META=os.path.join(root, 'data/processed/nowcast_training_000_META.csv')\n",
    "        DEST_TEST_FILE= os.path.join(root, 'data/processed/nowcast_testing_000.h5')\n",
    "        DEST_TEST_META= os.path.join(root, 'data/processed/nowcast_testing_000_META.csv')\n",
    "\n",
    "        if type=='train':\n",
    "            self.data_file = DEST_TRAIN_FILE\n",
    "            self.meta_file = DEST_TRAIN_META \n",
    "        else:\n",
    "            self.data_file = DEST_TEST_FILE\n",
    "            self.meta_file = DEST_TEST_META\n",
    "\n",
    "    def __getitem__(self, index):\n",
    "                \n",
    "        with h5py.File(self.data_file,'r') as hf:\n",
    "            input_img_seq = hf['IN_vil'][index].astype(float)\n",
    "            output_img_seq = hf['OUT_vil'][index].astype(float)\n",
    "        return input_img_seq, output_img_seq\n",
    "    \n",
    "    def __len__(self):\n",
    "        with h5py.File(self.data_file,'r') as hf:\n",
    "            return len(hf['IN_vil'])"
   ]
  },
  {
   "cell_type": "code",
   "execution_count": null,
   "metadata": {},
   "outputs": [],
   "source": [
    "sevir_dataset = SevirDataset(root='')\n",
    "train_dataloader = data.DataLoader(sevir_dataset, batch_size=8, shuffle=True)"
   ]
  },
  {
   "cell_type": "code",
   "execution_count": null,
   "metadata": {},
   "outputs": [],
   "source": [
    "input_img_seq, output_img_seq = next(iter(train_dataloader))"
   ]
  },
  {
   "cell_type": "code",
   "execution_count": null,
   "metadata": {},
   "outputs": [],
   "source": [
    "input_img_seq.shape"
   ]
  },
  {
   "cell_type": "code",
   "execution_count": null,
   "metadata": {},
   "outputs": [],
   "source": [
    "from display import get_cmap\n",
    "\n",
    "vil_cmap,vil_norm,vil_vmin,vil_vmax = get_cmap('vil',encoded=True)\n",
    "\n",
    "fig,axs=plt.subplots(4,4,figsize=(10,5))\n",
    "idx = 0\n",
    "for i in range(0,4):\n",
    "    for j in range(0,4):\n",
    "        if idx < (input_img_seq[0].shape[2]):\n",
    "            axs[i,j].imshow(input_img_seq[0][:,:,idx], cmap=vil_cmap,norm=vil_norm,vmin=vil_vmin,vmax=vil_vmax)\n",
    "            axs[i,j].set_axis_off()\n",
    "            idx+=1\n",
    "plt.show()"
   ]
  },
  {
   "cell_type": "code",
   "execution_count": 3,
   "metadata": {},
   "outputs": [],
   "source": [
    "class UNet(nn.Module):\n",
    "    def __init__(self, in_channels=13, out_channels=12):\n",
    "        super(UNet, self).__init__()\n",
    "\n",
    "    # Encoder\n",
    "        # In the encoder, convolutional layers with the Conv2d function are used to extract features from the input image. \n",
    "        # Each block in the encoder consists of two convolutional layers followed by a max-pooling layer, with the exception of the last block which does not include a max-pooling layer.\n",
    "        # -------\n",
    "        # input: 384x384x13\n",
    "        self.e11 = nn.Conv2d(in_channels, 16, kernel_size=3, padding=1) # output: 384x384x16\n",
    "        self.be11 = nn.BatchNorm2d(16)\n",
    "        self.ae11 = nn.ReLU()\n",
    "        self.e12 = nn.Conv2d(16, 16, kernel_size=3, padding=1) # output: 384x384x16\n",
    "        self.be12 = nn.BatchNorm2d(16)\n",
    "        self.ae12 = nn.ReLU()\n",
    "        self.pool1 = nn.MaxPool2d(kernel_size=2, stride=2) # output: 192x192x16\n",
    "\n",
    "        # input: 192x192x16\n",
    "        self.e21 = nn.Conv2d(16, 32, kernel_size=3, padding=1) # output: 192x192x32\n",
    "        self.be21 = nn.BatchNorm2d(32)\n",
    "        self.ae21= nn.ReLU()\n",
    "        self.e22 = nn.Conv2d(32, 32, kernel_size=3, padding=1) # output: 192x192x32\n",
    "        self.be22 = nn.BatchNorm2d(32)\n",
    "        self.ae22= nn.ReLU()\n",
    "        self.pool2 = nn.MaxPool2d(kernel_size=2, stride=2) # output: 96x96x32\n",
    "\n",
    "        # input: 96x96x32\n",
    "        self.e31 = nn.Conv2d(32, 64, kernel_size=3, padding=1) # output: 96x96x64\n",
    "        self.be31 = nn.BatchNorm2d(64)\n",
    "        self.ae31= nn.ReLU()\n",
    "        self.e32 = nn.Conv2d(64, 64, kernel_size=3, padding=1) # output: 96x96x64\n",
    "        self.be32 = nn.BatchNorm2d(64)\n",
    "        self.ae32= nn.ReLU()\n",
    "        self.pool3 = nn.MaxPool2d(kernel_size=2, stride=2) # output: 48x48x64\n",
    "\n",
    "        # input: 48x48x64\n",
    "        self.e41 = nn.Conv2d(64, 128, kernel_size=3, padding=1) # output: 48x48x128\n",
    "        self.be41 = nn.BatchNorm2d(128)\n",
    "        self.ae41= nn.ReLU()\n",
    "        self.e42 = nn.Conv2d(128, 128, kernel_size=3, padding=1) # output: 48x48x128\n",
    "        self.be42 = nn.BatchNorm2d(128)\n",
    "        self.ae42= nn.ReLU()\n",
    "        self.pool4 = nn.MaxPool2d(kernel_size=2, stride=2) # output: 24x24x128\n",
    "\n",
    "        # input: 24x24x128\n",
    "        self.e51 = nn.Conv2d(128, 512, kernel_size=3, padding=1) # output: 24x24x512\n",
    "        self.be51 = nn.BatchNorm2d(512)\n",
    "        self.ae51= nn.ReLU()\n",
    "        self.e52 = nn.Conv2d(512, 512, kernel_size=3, padding=1) # output: 24x24x512\n",
    "        self.be52 = nn.BatchNorm2d(512)\n",
    "        self.ae52= nn.ReLU()\n",
    "\n",
    "\n",
    "        # Decoder\n",
    "        self.upconv1 = nn.ConvTranspose2d(512, 128, kernel_size=2, stride=2)\n",
    "        self.upb1 = nn.BatchNorm2d(256)\n",
    "        self.d11 = nn.Conv2d(256, 128, kernel_size=3, padding=1)\n",
    "        self.bd11 = nn.BatchNorm2d(128)\n",
    "        self.ad11= nn.ReLU()\n",
    "        self.d12 = nn.Conv2d(128, 128, kernel_size=3, padding=1)\n",
    "        self.bd12 = nn.BatchNorm2d(128)\n",
    "        self.ad12= nn.ReLU()\n",
    "\n",
    "        self.upconv2 = nn.ConvTranspose2d(128, 64, kernel_size=2, stride=2)\n",
    "        self.upb2 = nn.BatchNorm2d(128)\n",
    "        self.d21 = nn.Conv2d(128, 64, kernel_size=3, padding=1)\n",
    "        self.bd21 = nn.BatchNorm2d(64)\n",
    "        self.ad21= nn.ReLU()\n",
    "        self.d22 = nn.Conv2d(64, 64, kernel_size=3, padding=1)\n",
    "        self.bd22 = nn.BatchNorm2d(64)\n",
    "        self.ad22= nn.ReLU()\n",
    "\n",
    "        self.upconv3 = nn.ConvTranspose2d(64, 32, kernel_size=2, stride=2)\n",
    "        self.upb3 = nn.BatchNorm2d(64)\n",
    "        self.d31 = nn.Conv2d(64, 32, kernel_size=3, padding=1)\n",
    "        self.bd31 = nn.BatchNorm2d(32)\n",
    "        self.ad31= nn.ReLU()\n",
    "        self.d32 = nn.Conv2d(32, 32, kernel_size=3, padding=1)\n",
    "        self.bd32 = nn.BatchNorm2d(32)\n",
    "        self.ad32= nn.ReLU()\n",
    "\n",
    "        self.upconv4 = nn.ConvTranspose2d(32, 16, kernel_size=2, stride=2)\n",
    "        self.upb4 = nn.BatchNorm2d(32)\n",
    "        self.d41 = nn.Conv2d(32, 16, kernel_size=3, padding=1)\n",
    "        self.bd41 = nn.BatchNorm2d(16)\n",
    "        self.ad41= nn.ReLU()\n",
    "        self.d42 = nn.Conv2d(16, 16, kernel_size=3, padding=1)\n",
    "        self.bd42 = nn.BatchNorm2d(16)\n",
    "        self.ad42= nn.ReLU()\n",
    "        \n",
    "\n",
    "        # Output layer\n",
    "        self.outconv = nn.Conv2d(16, out_channels, kernel_size=1)    \n",
    "\n",
    "    def forward(self, x):\n",
    "        #Encoder\n",
    "        MEAN=33.44\n",
    "        SCALE=47.54\n",
    "        # x = (x-MEAN)/SCALE\n",
    "        out1 = self.ae11(self.be11(self.e11(x)))\n",
    "        out1 = self.ae12(self.be12(self.e12(out1)))\n",
    "        out2 = self.pool1(out1)\n",
    "\n",
    "        out2 = self.ae21(self.be21(self.e21(out2)))\n",
    "        out2 = self.ae22(self.be22(self.e22(out2)))\n",
    "        out3 = self.pool2(out2)\n",
    "\n",
    "        out3 = self.ae31(self.be31(self.e31(out3)))\n",
    "        out3 = self.ae32(self.be32(self.e32(out3)))\n",
    "        out4 = self.pool3(out3)\n",
    "\n",
    "        out4 = self.ae41(self.be41(self.e41(out4)))\n",
    "        out4 = self.ae42(self.be42(self.e42(out4)))\n",
    "        out5 = self.pool4(out4)\n",
    "\n",
    "        out5 = self.ae51(self.be51(self.e51(out5)))\n",
    "        out5 = self.ae52(self.be52(self.e52(out5)))\n",
    "\n",
    "        # Decoder\n",
    "        out = self.upconv1(out5)\n",
    "        out = torch.cat([out, out4], dim=1)\n",
    "        out = self.ad11(self.upb1(out))\n",
    "        out = self.ad11(self.bd11(self.d11(out)))\n",
    "        out = self.ad12(self.bd12(self.d12(out)))\n",
    "\n",
    "        out = self.upconv2(out)\n",
    "        out = torch.cat([out, out3], dim=1)\n",
    "        out = self.ad21(self.upb2(out))\n",
    "        out = self.ad21(self.bd21(self.d21(out)))\n",
    "        out = self.ad22(self.bd22(self.d22(out)))\n",
    "\n",
    "        out = self.upconv3(out)\n",
    "        out = torch.cat([out, out2], dim=1)\n",
    "        out = self.ad31(self.upb3(out))\n",
    "        out = self.ad31(self.bd31(self.d31(out)))\n",
    "        out = self.ad32(self.bd32(self.d32(out)))\n",
    "\n",
    "        out = self.upconv4(out)\n",
    "        out = torch.cat([out, out1], dim=1)\n",
    "        out = self.ad41(self.upb4(out))\n",
    "        out = self.ad41(self.bd41(self.d41(out)))\n",
    "        out = self.ad42(self.bd42(self.d42(out)))\n",
    "\n",
    "        out = self.outconv(out)\n",
    "\n",
    "        return out"
   ]
  },
  {
   "cell_type": "code",
   "execution_count": null,
   "metadata": {},
   "outputs": [],
   "source": [
    "net = UNet()\n",
    "net.cuda()"
   ]
  },
  {
   "cell_type": "code",
   "execution_count": null,
   "metadata": {},
   "outputs": [],
   "source": [
    "total_params = sum(\n",
    "\tparam.numel() for param in net.parameters()\n",
    ")\n",
    "total_params"
   ]
  },
  {
   "cell_type": "code",
   "execution_count": null,
   "metadata": {},
   "outputs": [],
   "source": [
    "# define optimizer\n",
    "optimizer = optim.Adam(net.parameters(), lr=0.001)\n",
    "\n",
    "# define loss\n",
    "L1Loss = nn.L1Loss()\n",
    "# SmoothL1Loss = nn.SmoothL1Loss()"
   ]
  },
  {
   "cell_type": "code",
   "execution_count": null,
   "metadata": {},
   "outputs": [],
   "source": [
    "import time\n",
    "epochs = 10\n",
    "for epoch in range(epochs):\n",
    "    running_loss = 0.\n",
    "    for input_data in train_dataloader:\n",
    "        input_img_seq, output_img_seq = input_data\n",
    "\n",
    "        input_img_seq = input_img_seq.type(torch.cuda.FloatTensor).permute(0,3,1,2)\n",
    "        output_img_seq = output_img_seq.type(torch.cuda.FloatTensor).permute(0,3,1,2)\n",
    "\n",
    "        optimizer.zero_grad()\n",
    "\n",
    "        t0 = time.time()\n",
    "        output = net(input_img_seq)\n",
    "        loss = L1Loss(output,output_img_seq)\n",
    "        loss.backward()\n",
    "        optimizer.step()\n",
    "        t1 = time.time()\n",
    "        running_loss += loss.item()\n",
    "        print('Timer: %.4f sec.' % (t1 - t0))\n",
    "        print('iter ' + repr(epoch) + ' || Loss: %.4f ' % \\\n",
    "                (running_loss))"
   ]
  },
  {
   "cell_type": "code",
   "execution_count": null,
   "metadata": {},
   "outputs": [],
   "source": [
    "torch.save(net,'unet.pth')"
   ]
  },
  {
   "cell_type": "code",
   "execution_count": null,
   "metadata": {},
   "outputs": [],
   "source": [
    "output.shape"
   ]
  },
  {
   "cell_type": "code",
   "execution_count": null,
   "metadata": {},
   "outputs": [],
   "source": [
    "fig,axs=plt.subplots(4,4,figsize=(10,5))\n",
    "plot_output = output.permute(0,2,3,1).cpu().detach().numpy()\n",
    "idx = 0\n",
    "for i in range(0,4):\n",
    "    for j in range(0,4):\n",
    "        if idx < (plot_output[15].shape[2]):\n",
    "            axs[i,j].imshow(plot_output[0][:,:,idx], cmap=vil_cmap,norm=vil_norm,vmin=vil_vmin,vmax=vil_vmax)\n",
    "            axs[i,j].set_axis_off()\n",
    "            idx+=1\n",
    "plt.show()"
   ]
  },
  {
   "cell_type": "code",
   "execution_count": 6,
   "metadata": {},
   "outputs": [
    {
     "data": {
      "image/png": "[encoded data removed]",
      "text/plain": [
       "<Figure size 720x360 with 16 Axes>"
      ]
     },
     "metadata": {
      "needs_background": "light"
     },
     "output_type": "display_data"
    },
    {
     "data": {
      "image/png": "[encoded data removed]",
      "text/plain": [
       "<Figure size 720x360 with 16 Axes>"
      ]
     },
     "metadata": {
      "needs_background": "light"
     },
     "output_type": "display_data"
    }
   ],
   "source": [
    "sevir_test_dataset = SevirDataset(root='',type='test')\n",
    "test_dataloader = data.DataLoader(sevir_test_dataset, batch_size=8, shuffle=True)\n",
    "input_img_seq, output_img_seq = next(iter(test_dataloader))\n",
    "\n",
    "from display import get_cmap\n",
    "\n",
    "vil_cmap,vil_norm,vil_vmin,vil_vmax = get_cmap('vil',encoded=True)\n",
    "\n",
    "fig,axs=plt.subplots(4,4,figsize=(10,5))\n",
    "idx = 0\n",
    "for i in range(0,4):\n",
    "    for j in range(0,4):\n",
    "        if idx < (input_img_seq[0].shape[2]):\n",
    "            axs[i,j].imshow(input_img_seq[0][:,:,idx], cmap=vil_cmap,norm=vil_norm,vmin=vil_vmin,vmax=vil_vmax)\n",
    "            axs[i,j].set_axis_off()\n",
    "            idx+=1\n",
    "plt.show()\n",
    "net = torch.load('unet.pth')\n",
    "input_img_seq = input_img_seq.type(torch.cuda.FloatTensor).permute(0,3,1,2)\n",
    "output = net(input_img_seq)\n",
    "output = output.permute(0,2,3,1).cpu().detach().numpy()\n",
    "from display import get_cmap\n",
    "\n",
    "vil_cmap,vil_norm,vil_vmin,vil_vmax = get_cmap('vil',encoded=True)\n",
    "\n",
    "fig,axs=plt.subplots(4,4,figsize=(10,5))\n",
    "idx = 0\n",
    "for i in range(0,4):\n",
    "    for j in range(0,4):\n",
    "        if idx < (output[0].shape[2]):\n",
    "            axs[i,j].imshow(output[0][:,:,idx], cmap=vil_cmap,norm=vil_norm,vmin=vil_vmin,vmax=vil_vmax)\n",
    "            axs[i,j].set_axis_off()\n",
    "            idx+=1\n",
    "plt.show()"
   ]
  },
  {
   "cell_type": "code",
   "execution_count": 8,
   "metadata": {},
   "outputs": [
    {
     "name": "stderr",
     "output_type": "stream",
     "text": [
      "Lossy conversion from float32 to uint8. Range [-1.4344457387924194, 260.7874450683594]. Convert image to uint8 prior to saving to suppress this warning.\n",
      "Lossy conversion from float32 to uint8. Range [-0.9683656692504883, 236.06251525878906]. Convert image to uint8 prior to saving to suppress this warning.\n",
      "Lossy conversion from float32 to uint8. Range [-2.1751763820648193, 199.38693237304688]. Convert image to uint8 prior to saving to suppress this warning.\n",
      "Lossy conversion from float32 to uint8. Range [-0.35478445887565613, 161.60556030273438]. Convert image to uint8 prior to saving to suppress this warning.\n",
      "Lossy conversion from float32 to uint8. Range [-1.5894784927368164, 155.18231201171875]. Convert image to uint8 prior to saving to suppress this warning.\n",
      "Lossy conversion from float32 to uint8. Range [-1.8604506254196167, 152.87867736816406]. Convert image to uint8 prior to saving to suppress this warning.\n",
      "Lossy conversion from float32 to uint8. Range [-1.6401751041412354, 147.9964599609375]. Convert image to uint8 prior to saving to suppress this warning.\n",
      "Lossy conversion from float32 to uint8. Range [-0.7345681190490723, 142.20379638671875]. Convert image to uint8 prior to saving to suppress this warning.\n",
      "Lossy conversion from float32 to uint8. Range [-2.0243513584136963, 139.6016845703125]. Convert image to uint8 prior to saving to suppress this warning.\n",
      "Lossy conversion from float32 to uint8. Range [-1.9535304307937622, 139.15536499023438]. Convert image to uint8 prior to saving to suppress this warning.\n",
      "Lossy conversion from float32 to uint8. Range [-1.9094904661178589, 138.34202575683594]. Convert image to uint8 prior to saving to suppress this warning.\n",
      "Lossy conversion from float32 to uint8. Range [-2.855274200439453, 136.72705078125]. Convert image to uint8 prior to saving to suppress this warning.\n",
      "Lossy conversion from float32 to uint8. Range [-2.855274200439453, 136.72705078125]. Convert image to uint8 prior to saving to suppress this warning.\n",
      "Lossy conversion from float32 to uint8. Range [-2.855274200439453, 136.72705078125]. Convert image to uint8 prior to saving to suppress this warning.\n",
      "Lossy conversion from float32 to uint8. Range [-2.855274200439453, 136.72705078125]. Convert image to uint8 prior to saving to suppress this warning.\n",
      "Lossy conversion from float32 to uint8. Range [-2.855274200439453, 136.72705078125]. Convert image to uint8 prior to saving to suppress this warning.\n",
      "Lossy conversion from float32 to uint8. Range [-2.855274200439453, 136.72705078125]. Convert image to uint8 prior to saving to suppress this warning.\n",
      "Lossy conversion from float32 to uint8. Range [-2.855274200439453, 136.72705078125]. Convert image to uint8 prior to saving to suppress this warning.\n",
      "Lossy conversion from float32 to uint8. Range [-2.855274200439453, 136.72705078125]. Convert image to uint8 prior to saving to suppress this warning.\n",
      "Lossy conversion from float32 to uint8. Range [-2.855274200439453, 136.72705078125]. Convert image to uint8 prior to saving to suppress this warning.\n",
      "Lossy conversion from float32 to uint8. Range [-2.855274200439453, 136.72705078125]. Convert image to uint8 prior to saving to suppress this warning.\n",
      "Lossy conversion from float32 to uint8. Range [-2.855274200439453, 136.72705078125]. Convert image to uint8 prior to saving to suppress this warning.\n",
      "Lossy conversion from float32 to uint8. Range [-2.855274200439453, 136.72705078125]. Convert image to uint8 prior to saving to suppress this warning.\n",
      "Lossy conversion from float32 to uint8. Range [-2.855274200439453, 136.72705078125]. Convert image to uint8 prior to saving to suppress this warning.\n"
     ]
    }
   ],
   "source": [
    "import imageio\n",
    "from PIL import Image as im \n",
    "frames = []\n",
    "for i in range(12):\n",
    "     frame = output[0][:,:,i]\n",
    "     frames.append(frame) \n",
    "with imageio.get_writer('sample.gif', mode='I') as writer:\n",
    "        for idx, frame in enumerate(frames):\n",
    "            writer.append_data(frame)\n",
    "            if idx == len(frames) - 1:\n",
    "                for _ in range(12):\n",
    "                    writer.append_data(frames[-1])"
   ]
  }
 ],
 "metadata": {
  "kernelspec": {
   "display_name": "Python 3",
   "language": "python",
   "name": "python3"
  },
  "language_info": {
   "codemirror_mode": {
    "name": "ipython",
    "version": 3
   },
   "file_extension": ".py",
   "mimetype": "text/x-python",
   "name": "python",
   "nbconvert_exporter": "python",
   "pygments_lexer": "ipython3",
   "version": "3.7.8"
  }
 },
 "nbformat": 4,
 "nbformat_minor": 2
}
