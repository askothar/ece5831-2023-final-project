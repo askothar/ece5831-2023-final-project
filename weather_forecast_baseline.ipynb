{
 "cells": [
  {
   "cell_type": "code",
   "execution_count": 1,
   "metadata": {},
   "outputs": [],
   "source": [
    "import os\n",
    "import h5py\n",
    "import glob\n",
    "import torch.utils.data as data\n",
    "import torch.optim as optim\n",
    "import torch.nn.init as init\n",
    "import torch\n",
    "import torch.nn as nn\n",
    "import torch.nn.functional as F\n",
    "from torch.autograd import Variable\n",
    "import matplotlib.pyplot as plt"
   ]
  },
  {
   "cell_type": "code",
   "execution_count": 2,
   "metadata": {},
   "outputs": [
    {
     "name": "stdout",
     "output_type": "stream",
     "text": [
      "Keys: <KeysViewHDF5 ['IN_ir069', 'IN_ir107', 'IN_lght', 'IN_vil', 'OUT_vil']>\n",
      "5088\n"
     ]
    }
   ],
   "source": [
    "with h5py.File('data/processed/nowcast_training_000.h5','r') as hf:\n",
    "    print(\"Keys: %s\" % hf.keys())\n",
    "    print(len(hf['IN_vil']))"
   ]
  },
  {
   "cell_type": "code",
   "execution_count": 3,
   "metadata": {},
   "outputs": [],
   "source": [
    "class SevirDataset(data.Dataset):\n",
    "\n",
    "    def __init__(self, root = '..', type = 'train'):\n",
    "        \n",
    "        DEST_TRAIN_FILE= os.path.join(root,'data/processed/nowcast_training_000.h5')\n",
    "        DEST_TRAIN_META=os.path.join(root, 'data/processed/nowcast_training_000_META.csv')\n",
    "        DEST_TEST_FILE= os.path.join(root, 'data/processed/nowcast_testing_000.h5')\n",
    "        DEST_TEST_META= os.path.join(root, 'data/processed/nowcast_testing_000_META.csv')\n",
    "\n",
    "        if type=='train':\n",
    "            self.data_file = DEST_TRAIN_FILE\n",
    "            self.meta_file = DEST_TRAIN_META \n",
    "        else:\n",
    "            self.data_file = DEST_TEST_FILE\n",
    "            self.meta_file = DEST_TEST_META\n",
    "\n",
    "    def __getitem__(self, index):\n",
    "                \n",
    "        with h5py.File(self.data_file,'r') as hf:\n",
    "            input_img_seq = hf['IN_vil'][index].astype(float)\n",
    "            output_img_seq = hf['OUT_vil'][index].astype(float)\n",
    "        return input_img_seq, output_img_seq\n",
    "    \n",
    "    def __len__(self):\n",
    "        with h5py.File(self.data_file,'r') as hf:\n",
    "            return len(hf['IN_vil'])"
   ]
  },
  {
   "cell_type": "code",
   "execution_count": 4,
   "metadata": {},
   "outputs": [],
   "source": [
    "sevir_dataset = SevirDataset(root='')\n",
    "train_dataloader = data.DataLoader(sevir_dataset, batch_size=8, shuffle=True)"
   ]
  },
  {
   "cell_type": "code",
   "execution_count": 5,
   "metadata": {},
   "outputs": [],
   "source": [
    "input_img_seq, output_img_seq = next(iter(train_dataloader))"
   ]
  },
  {
   "cell_type": "code",
   "execution_count": 6,
   "metadata": {},
   "outputs": [],
   "source": [
    "input_img_seq = input_img_seq.permute(0,3,1,2).unsqueeze(4)"
   ]
  },
  {
   "cell_type": "code",
   "execution_count": 7,
   "metadata": {},
   "outputs": [
    {
     "data": {
      "text/plain": [
       "torch.Size([8, 13, 384, 384, 1])"
      ]
     },
     "execution_count": 7,
     "metadata": {},
     "output_type": "execute_result"
    }
   ],
   "source": [
    "input_img_seq.shape"
   ]
  },
  {
   "cell_type": "code",
   "execution_count": 8,
   "metadata": {},
   "outputs": [
    {
     "data": {
      "image/png": "[encoded data removed]",
      "text/plain": [
       "<Figure size 720x360 with 16 Axes>"
      ]
     },
     "metadata": {
      "needs_background": "light"
     },
     "output_type": "display_data"
    }
   ],
   "source": [
    "from display import get_cmap\n",
    "\n",
    "vil_cmap,vil_norm,vil_vmin,vil_vmax = get_cmap('vil',encoded=True)\n",
    "\n",
    "fig,axs=plt.subplots(4,4,figsize=(10,5))\n",
    "idx = 0\n",
    "for i in range(0,4):\n",
    "    for j in range(0,4):\n",
    "        if idx < (input_img_seq[0].shape[2]):\n",
    "            axs[i,j].imshow(input_img_seq[0][:,:,idx], cmap=vil_cmap,norm=vil_norm,vmin=vil_vmin,vmax=vil_vmax)\n",
    "            axs[i,j].set_axis_off()\n",
    "            idx+=1\n",
    "plt.show()"
   ]
  },
  {
   "cell_type": "code",
   "execution_count": 9,
   "metadata": {},
   "outputs": [],
   "source": [
    "class UNet(nn.Module):\n",
    "    def __init__(self, in_channels=13, out_channels=12):\n",
    "        super(UNet, self).__init__()\n",
    "\n",
    "    # Encoder\n",
    "        # input: 384x384x13\n",
    "        self.e11 = nn.Conv2d(in_channels, 16, kernel_size=3, padding=1) # output: 384x384x16\n",
    "        self.be11 = nn.BatchNorm2d(16)\n",
    "        self.ae11 = nn.ReLU()\n",
    "        self.e12 = nn.Conv2d(16, 16, kernel_size=3, padding=1) # output: 384x384x16\n",
    "        self.be12 = nn.BatchNorm2d(16)\n",
    "        self.ae12 = nn.ReLU()\n",
    "        self.pool1 = nn.MaxPool2d(kernel_size=2, stride=2) # output: 192x192x16\n",
    "\n",
    "        # input: 192x192x16\n",
    "        self.e21 = nn.Conv2d(16, 32, kernel_size=3, padding=1) # output: 192x192x32\n",
    "        self.be21 = nn.BatchNorm2d(32)\n",
    "        self.ae21= nn.ReLU()\n",
    "        self.e22 = nn.Conv2d(32, 32, kernel_size=3, padding=1) # output: 192x192x32\n",
    "        self.be22 = nn.BatchNorm2d(32)\n",
    "        self.ae22= nn.ReLU()\n",
    "        self.pool2 = nn.MaxPool2d(kernel_size=2, stride=2) # output: 96x96x32\n",
    "\n",
    "        # input: 96x96x32\n",
    "        self.e31 = nn.Conv2d(32, 64, kernel_size=3, padding=1) # output: 96x96x64\n",
    "        self.be31 = nn.BatchNorm2d(64)\n",
    "        self.ae31= nn.ReLU()\n",
    "        self.e32 = nn.Conv2d(64, 64, kernel_size=3, padding=1) # output: 96x96x64\n",
    "        self.be32 = nn.BatchNorm2d(64)\n",
    "        self.ae32= nn.ReLU()\n",
    "        self.pool3 = nn.MaxPool2d(kernel_size=2, stride=2) # output: 48x48x64\n",
    "\n",
    "        # input: 48x48x64\n",
    "        self.e41 = nn.Conv2d(64, 128, kernel_size=3, padding=1) # output: 48x48x128\n",
    "        self.be41 = nn.BatchNorm2d(128)\n",
    "        self.ae41= nn.ReLU()\n",
    "        self.e42 = nn.Conv2d(128, 128, kernel_size=3, padding=1) # output: 48x48x128\n",
    "        self.be42 = nn.BatchNorm2d(128)\n",
    "        self.ae42= nn.ReLU()\n",
    "        self.pool4 = nn.MaxPool2d(kernel_size=2, stride=2) # output: 24x24x128\n",
    "\n",
    "        # input: 24x24x128\n",
    "        self.e51 = nn.Conv2d(128, 512, kernel_size=3, padding=1) # output: 24x24x512\n",
    "        self.be51 = nn.BatchNorm2d(512)\n",
    "        self.ae51= nn.ReLU()\n",
    "        self.e52 = nn.Conv2d(512, 512, kernel_size=3, padding=1) # output: 24x24x512\n",
    "        self.be52 = nn.BatchNorm2d(512)\n",
    "        self.ae52= nn.ReLU()\n",
    "\n",
    "\n",
    "        # Decoder\n",
    "        self.upconv1 = nn.ConvTranspose2d(512, 128, kernel_size=2, stride=2)\n",
    "        self.upb1 = nn.BatchNorm2d(256)\n",
    "        self.d11 = nn.Conv2d(256, 128, kernel_size=3, padding=1)\n",
    "        self.bd11 = nn.BatchNorm2d(128)\n",
    "        self.ad11= nn.ReLU()\n",
    "        self.d12 = nn.Conv2d(128, 128, kernel_size=3, padding=1)\n",
    "        self.bd12 = nn.BatchNorm2d(128)\n",
    "        self.ad12= nn.ReLU()\n",
    "\n",
    "        self.upconv2 = nn.ConvTranspose2d(128, 64, kernel_size=2, stride=2)\n",
    "        self.upb2 = nn.BatchNorm2d(128)\n",
    "        self.d21 = nn.Conv2d(128, 64, kernel_size=3, padding=1)\n",
    "        self.bd21 = nn.BatchNorm2d(64)\n",
    "        self.ad21= nn.ReLU()\n",
    "        self.d22 = nn.Conv2d(64, 64, kernel_size=3, padding=1)\n",
    "        self.bd22 = nn.BatchNorm2d(64)\n",
    "        self.ad22= nn.ReLU()\n",
    "\n",
    "        self.upconv3 = nn.ConvTranspose2d(64, 32, kernel_size=2, stride=2)\n",
    "        self.upb3 = nn.BatchNorm2d(64)\n",
    "        self.d31 = nn.Conv2d(64, 32, kernel_size=3, padding=1)\n",
    "        self.bd31 = nn.BatchNorm2d(32)\n",
    "        self.ad31= nn.ReLU()\n",
    "        self.d32 = nn.Conv2d(32, 32, kernel_size=3, padding=1)\n",
    "        self.bd32 = nn.BatchNorm2d(32)\n",
    "        self.ad32= nn.ReLU()\n",
    "\n",
    "        self.upconv4 = nn.ConvTranspose2d(32, 16, kernel_size=2, stride=2)\n",
    "        self.upb4 = nn.BatchNorm2d(32)\n",
    "        self.d41 = nn.Conv2d(32, 16, kernel_size=3, padding=1)\n",
    "        self.bd41 = nn.BatchNorm2d(16)\n",
    "        self.ad41= nn.ReLU()\n",
    "        self.d42 = nn.Conv2d(16, 16, kernel_size=3, padding=1)\n",
    "        self.bd42 = nn.BatchNorm2d(16)\n",
    "        self.ad42= nn.ReLU()\n",
    "        \n",
    "\n",
    "        # Output layer\n",
    "        self.outconv = nn.Conv2d(16, out_channels, kernel_size=1)    \n",
    "\n",
    "    def forward(self, x):\n",
    "        #Encoder\n",
    "        MEAN=33.44\n",
    "        SCALE=47.54\n",
    "        # x = (x-MEAN)/SCALE\n",
    "        out1 = self.ae11(self.be11(self.e11(x)))\n",
    "        out1 = self.ae12(self.be12(self.e12(out1)))\n",
    "        out2 = self.pool1(out1)\n",
    "\n",
    "        out2 = self.ae21(self.be21(self.e21(out2)))\n",
    "        out2 = self.ae22(self.be22(self.e22(out2)))\n",
    "        out3 = self.pool2(out2)\n",
    "\n",
    "        out3 = self.ae31(self.be31(self.e31(out3)))\n",
    "        out3 = self.ae32(self.be32(self.e32(out3)))\n",
    "        out4 = self.pool3(out3)\n",
    "\n",
    "        out4 = self.ae41(self.be41(self.e41(out4)))\n",
    "        out4 = self.ae42(self.be42(self.e42(out4)))\n",
    "        out5 = self.pool4(out4)\n",
    "\n",
    "        out5 = self.ae51(self.be51(self.e51(out5)))\n",
    "        out5 = self.ae52(self.be52(self.e52(out5)))\n",
    "\n",
    "        # Decoder\n",
    "        out = self.upconv1(out5)\n",
    "        out = torch.cat([out, out4], dim=1)\n",
    "        out = self.ad11(self.upb1(out))\n",
    "        out = self.ad11(self.bd11(self.d11(out)))\n",
    "        out = self.ad12(self.bd12(self.d12(out)))\n",
    "\n",
    "        out = self.upconv2(out)\n",
    "        out = torch.cat([out, out3], dim=1)\n",
    "        out = self.ad21(self.upb2(out))\n",
    "        out = self.ad21(self.bd21(self.d21(out)))\n",
    "        out = self.ad22(self.bd22(self.d22(out)))\n",
    "\n",
    "        out = self.upconv3(out)\n",
    "        out = torch.cat([out, out2], dim=1)\n",
    "        out = self.ad31(self.upb3(out))\n",
    "        out = self.ad31(self.bd31(self.d31(out)))\n",
    "        out = self.ad32(self.bd32(self.d32(out)))\n",
    "\n",
    "        out = self.upconv4(out)\n",
    "        out = torch.cat([out, out1], dim=1)\n",
    "        out = self.ad41(self.upb4(out))\n",
    "        out = self.ad41(self.bd41(self.d41(out)))\n",
    "        out = self.ad42(self.bd42(self.d42(out)))\n",
    "\n",
    "        out = self.outconv(out)\n",
    "\n",
    "        return out"
   ]
  },
  {
   "cell_type": "code",
   "execution_count": 10,
   "metadata": {},
   "outputs": [
    {
     "data": {
      "text/plain": [
       "UNet(\n",
       "  (e11): Conv2d(13, 16, kernel_size=(3, 3), stride=(1, 1), padding=(1, 1))\n",
       "  (be11): BatchNorm2d(16, eps=1e-05, momentum=0.1, affine=True, track_running_stats=True)\n",
       "  (ae11): ReLU()\n",
       "  (e12): Conv2d(16, 16, kernel_size=(3, 3), stride=(1, 1), padding=(1, 1))\n",
       "  (be12): BatchNorm2d(16, eps=1e-05, momentum=0.1, affine=True, track_running_stats=True)\n",
       "  (ae12): ReLU()\n",
       "  (pool1): MaxPool2d(kernel_size=2, stride=2, padding=0, dilation=1, ceil_mode=False)\n",
       "  (e21): Conv2d(16, 32, kernel_size=(3, 3), stride=(1, 1), padding=(1, 1))\n",
       "  (be21): BatchNorm2d(32, eps=1e-05, momentum=0.1, affine=True, track_running_stats=True)\n",
       "  (ae21): ReLU()\n",
       "  (e22): Conv2d(32, 32, kernel_size=(3, 3), stride=(1, 1), padding=(1, 1))\n",
       "  (be22): BatchNorm2d(32, eps=1e-05, momentum=0.1, affine=True, track_running_stats=True)\n",
       "  (ae22): ReLU()\n",
       "  (pool2): MaxPool2d(kernel_size=2, stride=2, padding=0, dilation=1, ceil_mode=False)\n",
       "  (e31): Conv2d(32, 64, kernel_size=(3, 3), stride=(1, 1), padding=(1, 1))\n",
       "  (be31): BatchNorm2d(64, eps=1e-05, momentum=0.1, affine=True, track_running_stats=True)\n",
       "  (ae31): ReLU()\n",
       "  (e32): Conv2d(64, 64, kernel_size=(3, 3), stride=(1, 1), padding=(1, 1))\n",
       "  (be32): BatchNorm2d(64, eps=1e-05, momentum=0.1, affine=True, track_running_stats=True)\n",
       "  (ae32): ReLU()\n",
       "  (pool3): MaxPool2d(kernel_size=2, stride=2, padding=0, dilation=1, ceil_mode=False)\n",
       "  (e41): Conv2d(64, 128, kernel_size=(3, 3), stride=(1, 1), padding=(1, 1))\n",
       "  (be41): BatchNorm2d(128, eps=1e-05, momentum=0.1, affine=True, track_running_stats=True)\n",
       "  (ae41): ReLU()\n",
       "  (e42): Conv2d(128, 128, kernel_size=(3, 3), stride=(1, 1), padding=(1, 1))\n",
       "  (be42): BatchNorm2d(128, eps=1e-05, momentum=0.1, affine=True, track_running_stats=True)\n",
       "  (ae42): ReLU()\n",
       "  (pool4): MaxPool2d(kernel_size=2, stride=2, padding=0, dilation=1, ceil_mode=False)\n",
       "  (e51): Conv2d(128, 512, kernel_size=(3, 3), stride=(1, 1), padding=(1, 1))\n",
       "  (be51): BatchNorm2d(512, eps=1e-05, momentum=0.1, affine=True, track_running_stats=True)\n",
       "  (ae51): ReLU()\n",
       "  (e52): Conv2d(512, 512, kernel_size=(3, 3), stride=(1, 1), padding=(1, 1))\n",
       "  (be52): BatchNorm2d(512, eps=1e-05, momentum=0.1, affine=True, track_running_stats=True)\n",
       "  (ae52): ReLU()\n",
       "  (upconv1): ConvTranspose2d(512, 128, kernel_size=(2, 2), stride=(2, 2))\n",
       "  (upb1): BatchNorm2d(256, eps=1e-05, momentum=0.1, affine=True, track_running_stats=True)\n",
       "  (d11): Conv2d(256, 128, kernel_size=(3, 3), stride=(1, 1), padding=(1, 1))\n",
       "  (bd11): BatchNorm2d(128, eps=1e-05, momentum=0.1, affine=True, track_running_stats=True)\n",
       "  (ad11): ReLU()\n",
       "  (d12): Conv2d(128, 128, kernel_size=(3, 3), stride=(1, 1), padding=(1, 1))\n",
       "  (bd12): BatchNorm2d(128, eps=1e-05, momentum=0.1, affine=True, track_running_stats=True)\n",
       "  (ad12): ReLU()\n",
       "  (upconv2): ConvTranspose2d(128, 64, kernel_size=(2, 2), stride=(2, 2))\n",
       "  (upb2): BatchNorm2d(128, eps=1e-05, momentum=0.1, affine=True, track_running_stats=True)\n",
       "  (d21): Conv2d(128, 64, kernel_size=(3, 3), stride=(1, 1), padding=(1, 1))\n",
       "  (bd21): BatchNorm2d(64, eps=1e-05, momentum=0.1, affine=True, track_running_stats=True)\n",
       "  (ad21): ReLU()\n",
       "  (d22): Conv2d(64, 64, kernel_size=(3, 3), stride=(1, 1), padding=(1, 1))\n",
       "  (bd22): BatchNorm2d(64, eps=1e-05, momentum=0.1, affine=True, track_running_stats=True)\n",
       "  (ad22): ReLU()\n",
       "  (upconv3): ConvTranspose2d(64, 32, kernel_size=(2, 2), stride=(2, 2))\n",
       "  (upb3): BatchNorm2d(64, eps=1e-05, momentum=0.1, affine=True, track_running_stats=True)\n",
       "  (d31): Conv2d(64, 32, kernel_size=(3, 3), stride=(1, 1), padding=(1, 1))\n",
       "  (bd31): BatchNorm2d(32, eps=1e-05, momentum=0.1, affine=True, track_running_stats=True)\n",
       "  (ad31): ReLU()\n",
       "  (d32): Conv2d(32, 32, kernel_size=(3, 3), stride=(1, 1), padding=(1, 1))\n",
       "  (bd32): BatchNorm2d(32, eps=1e-05, momentum=0.1, affine=True, track_running_stats=True)\n",
       "  (ad32): ReLU()\n",
       "  (upconv4): ConvTranspose2d(32, 16, kernel_size=(2, 2), stride=(2, 2))\n",
       "  (upb4): BatchNorm2d(32, eps=1e-05, momentum=0.1, affine=True, track_running_stats=True)\n",
       "  (d41): Conv2d(32, 16, kernel_size=(3, 3), stride=(1, 1), padding=(1, 1))\n",
       "  (bd41): BatchNorm2d(16, eps=1e-05, momentum=0.1, affine=True, track_running_stats=True)\n",
       "  (ad41): ReLU()\n",
       "  (d42): Conv2d(16, 16, kernel_size=(3, 3), stride=(1, 1), padding=(1, 1))\n",
       "  (bd42): BatchNorm2d(16, eps=1e-05, momentum=0.1, affine=True, track_running_stats=True)\n",
       "  (ad42): ReLU()\n",
       "  (outconv): Conv2d(16, 12, kernel_size=(1, 1), stride=(1, 1))\n",
       ")"
      ]
     },
     "execution_count": 10,
     "metadata": {},
     "output_type": "execute_result"
    }
   ],
   "source": [
    "net = UNet()\n",
    "net.cuda()"
   ]
  },
  {
   "cell_type": "code",
   "execution_count": null,
   "metadata": {},
   "outputs": [],
   "source": [
    "total_params = sum(\n",
    "\tparam.numel() for param in net.parameters()\n",
    ")\n",
    "total_params"
   ]
  },
  {
   "cell_type": "code",
   "execution_count": null,
   "metadata": {},
   "outputs": [],
   "source": [
    "# define optimizer\n",
    "optimizer = optim.Adam(net.parameters(), lr=0.001)\n",
    "\n",
    "# define loss\n",
    "L1Loss = nn.L1Loss()\n",
    "# SmoothL1Loss = nn.SmoothL1Loss()"
   ]
  },
  {
   "cell_type": "code",
   "execution_count": null,
   "metadata": {},
   "outputs": [],
   "source": [
    "import time\n",
    "epochs = 10\n",
    "for epoch in range(epochs):\n",
    "    running_loss = 0.\n",
    "    for input_data in train_dataloader:\n",
    "        input_img_seq, output_img_seq = input_data\n",
    "\n",
    "        input_img_seq = input_img_seq.type(torch.cuda.FloatTensor).permute(0,3,1,2)\n",
    "        output_img_seq = output_img_seq.type(torch.cuda.FloatTensor).permute(0,3,1,2)\n",
    "\n",
    "        optimizer.zero_grad()\n",
    "\n",
    "        t0 = time.time()\n",
    "        output = net(input_img_seq)\n",
    "        loss = L1Loss(output,output_img_seq)\n",
    "        loss.backward()\n",
    "        optimizer.step()\n",
    "        t1 = time.time()\n",
    "        running_loss += loss.item()\n",
    "        print('Timer: %.4f sec.' % (t1 - t0))\n",
    "        print('iter ' + repr(epoch) + ' || Loss: %.4f ' % \\\n",
    "                (running_loss))"
   ]
  },
  {
   "cell_type": "code",
   "execution_count": null,
   "metadata": {},
   "outputs": [],
   "source": [
    "torch.save(net,'unet.pth')"
   ]
  },
  {
   "cell_type": "code",
   "execution_count": null,
   "metadata": {},
   "outputs": [],
   "source": [
    "output.shape"
   ]
  },
  {
   "cell_type": "code",
   "execution_count": null,
   "metadata": {},
   "outputs": [],
   "source": [
    "fig,axs=plt.subplots(4,4,figsize=(10,5))\n",
    "plot_output = output.permute(0,2,3,1).cpu().detach().numpy()\n",
    "idx = 0\n",
    "for i in range(0,4):\n",
    "    for j in range(0,4):\n",
    "        if idx < (plot_output[15].shape[2]):\n",
    "            axs[i,j].imshow(plot_output[0][:,:,idx], cmap=vil_cmap,norm=vil_norm,vmin=vil_vmin,vmax=vil_vmax)\n",
    "            axs[i,j].set_axis_off()\n",
    "            idx+=1\n",
    "plt.show()"
   ]
  },
  {
   "cell_type": "code",
   "execution_count": 11,
   "metadata": {},
   "outputs": [
    {
     "data": {
      "image/png": "[encoded data removed]",
      "text/plain": [
       "<Figure size 720x360 with 16 Axes>"
      ]
     },
     "metadata": {
      "needs_background": "light"
     },
     "output_type": "display_data"
    },
    {
     "data": {
      "image/png": "[encoded data removed]",
      "text/plain": [
       "<Figure size 720x360 with 16 Axes>"
      ]
     },
     "metadata": {
      "needs_background": "light"
     },
     "output_type": "display_data"
    }
   ],
   "source": [
    "sevir_test_dataset = SevirDataset(root='',type='test')\n",
    "test_dataloader = data.DataLoader(sevir_test_dataset, batch_size=8, shuffle=True)\n",
    "input_img_seq, output_img_seq = next(iter(test_dataloader))\n",
    "\n",
    "from display import get_cmap\n",
    "\n",
    "vil_cmap,vil_norm,vil_vmin,vil_vmax = get_cmap('vil',encoded=True)\n",
    "\n",
    "fig,axs=plt.subplots(4,4,figsize=(10,5))\n",
    "idx = 0\n",
    "for i in range(0,4):\n",
    "    for j in range(0,4):\n",
    "        if idx < (input_img_seq[0].shape[2]):\n",
    "            axs[i,j].imshow(input_img_seq[0][:,:,idx], cmap=vil_cmap,norm=vil_norm,vmin=vil_vmin,vmax=vil_vmax)\n",
    "            axs[i,j].set_axis_off()\n",
    "            idx+=1\n",
    "plt.show()\n",
    "net = torch.load('unet.pth')\n",
    "input_img_seq = input_img_seq.type(torch.cuda.FloatTensor).permute(0,3,1,2)\n",
    "output = net(input_img_seq)\n",
    "output = output.permute(0,2,3,1).cpu().detach().numpy()\n",
    "from display import get_cmap\n",
    "\n",
    "vil_cmap,vil_norm,vil_vmin,vil_vmax = get_cmap('vil',encoded=True)\n",
    "\n",
    "fig,axs=plt.subplots(4,4,figsize=(10,5))\n",
    "idx = 0\n",
    "for i in range(0,4):\n",
    "    for j in range(0,4):\n",
    "        if idx < (output[0].shape[2]):\n",
    "            axs[i,j].imshow(output[0][:,:,idx], cmap=vil_cmap,norm=vil_norm,vmin=vil_vmin,vmax=vil_vmax)\n",
    "            axs[i,j].set_axis_off()\n",
    "            idx+=1\n",
    "plt.show()"
   ]
  },
  {
   "cell_type": "code",
   "execution_count": null,
   "metadata": {},
   "outputs": [],
   "source": [
    "import imageio\n",
    "from PIL import Image as im \n",
    "frames = []\n",
    "for i in range(12):\n",
    "     frame = output[0][:,:,i]\n",
    "     frames.append(frame) \n",
    "with imageio.get_writer('sample.gif', mode='I') as writer:\n",
    "        for idx, frame in enumerate(frames):\n",
    "            writer.append_data(frame)\n",
    "            if idx == len(frames) - 1:\n",
    "                for _ in range(12):\n",
    "                    writer.append_data(frames[-1])"
   ]
  }
 ],
 "metadata": {
  "kernelspec": {
   "display_name": "Python 3",
   "language": "python",
   "name": "python3"
  },
  "language_info": {
   "codemirror_mode": {
    "name": "ipython",
    "version": 3
   },
   "file_extension": ".py",
   "mimetype": "text/x-python",
   "name": "python",
   "nbconvert_exporter": "python",
   "pygments_lexer": "ipython3",
   "version": "3.7.8"
  }
 },
 "nbformat": 4,
 "nbformat_minor": 2
}
