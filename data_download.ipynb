{
 "cells": [
  {
   "cell_type": "code",
   "execution_count": null,
   "metadata": {},
   "outputs": [],
   "source": [
    "import os"
   ]
  },
  {
   "cell_type": "code",
   "execution_count": null,
   "metadata": {},
   "outputs": [],
   "source": [
    "data_path=\"..\"\n",
    "# Target locations of sample training & testing data\n",
    "DEST_TRAIN_FILE= os.path.join(data_path,'data/processed/nowcast_training_000.h5')\n",
    "DEST_TRAIN_META=os.path.join(data_path, 'data/processed/nowcast_training_000_META.csv')\n",
    "DEST_TEST_FILE= os.path.join(data_path, 'data/processed/nowcast_testing_000.h5')\n",
    "DEST_TEST_META= os.path.join(data_path, 'data/processed/nowcast_testing_000_META.csv')"
   ]
  },
  {
   "cell_type": "code",
   "execution_count": null,
   "metadata": {},
   "outputs": [],
   "source": [
    "# THIS DOWNLOADS APPROXIMATELY 40 GB DATASETS (AFTER DECOMPRESSION)\n",
    "import boto3\n",
    "from botocore.handlers import disable_signing\n",
    "import tarfile\n",
    "resource = boto3.resource('s3')\n",
    "resource.meta.client.meta.events.register('choose-signer.s3.*', disable_signing)\n",
    "bucket=resource.Bucket('sevir')\n",
    "\n",
    "print('Dowloading sample training data')\n",
    "if not os.path.exists(DEST_TRAIN_FILE):\n",
    "    bucket.download_file('data/processed/nowcast_training_000.h5.tar.gz',DEST_TRAIN_FILE+'.tar.gz')\n",
    "    bucket.download_file('data/processed/nowcast_training_000_META.csv',DEST_TRAIN_META)\n",
    "    with tarfile.open(DEST_TRAIN_FILE+'.tar.gz') as tfile:\n",
    "        tfile.extract('data/processed/nowcast_training_000.h5','..')\n",
    "else:\n",
    "    print('Train file %s already exists' % DEST_TRAIN_FILE)\n",
    "print('Dowloading sample testing data')\n",
    "if not os.path.exists(DEST_TEST_FILE):\n",
    "    bucket.download_file('data/processed/nowcast_testing_000.h5.tar.gz',DEST_TEST_FILE+'.tar.gz')\n",
    "    bucket.download_file('data/processed/nowcast_testing_000_META.csv',DEST_TEST_META)\n",
    "    with tarfile.open(DEST_TEST_FILE+'.tar.gz') as tfile:\n",
    "        tfile.extract('data/processed/nowcast_testing_000.h5','..')\n",
    "else:\n",
    "    print('Test file %s already exists' % DEST_TEST_FILE)"
   ]
  }
 ],
 "metadata": {
  "kernelspec": {
   "display_name": "Python 3",
   "language": "python",
   "name": "python3"
  },
  "language_info": {
   "name": "python",
   "version": "3.7.8"
  }
 },
 "nbformat": 4,
 "nbformat_minor": 2
}
